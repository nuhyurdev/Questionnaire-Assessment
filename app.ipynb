{
 "cells": [
  {
   "cell_type": "markdown",
   "metadata": {},
   "source": [
    "## Install Dependencies"
   ]
  },
  {
   "cell_type": "code",
   "execution_count": 2,
   "id": "81914430",
   "metadata": {
    "dotnet_interactive": {
     "language": "csharp"
    },
    "polyglot_notebook": {
     "kernelName": "csharp"
    },
    "vscode": {
     "languageId": "polyglot-notebook"
    }
   },
   "outputs": [
    {
     "data": {
      "text/html": [
       "<div><div></div><div></div><div><strong>Installed Packages</strong><ul><li><span>CsvHelper, 33.0.1</span></li><li><span>Microsoft.Data.Analysis, 0.22.1</span></li></ul></div></div>"
      ]
     },
     "metadata": {},
     "output_type": "display_data"
    }
   ],
   "source": [
    "#r \"nuget: CsvHelper\"\n",
    "#r \"nuget: Microsoft.Data.Analysis\""
   ]
  },
  {
   "cell_type": "markdown",
   "metadata": {},
   "source": [
    "## Imports && Define Classes"
   ]
  },
  {
   "cell_type": "code",
   "execution_count": 3,
   "id": "a684d17d",
   "metadata": {
    "dotnet_interactive": {
     "language": "csharp"
    },
    "polyglot_notebook": {
     "kernelName": "csharp"
    },
    "vscode": {
     "languageId": "polyglot-notebook"
    }
   },
   "outputs": [],
   "source": [
    "using System;\n",
    "using System.Collections.Generic;\n",
    "using System.Globalization;\n",
    "using System.IO;\n",
    "using System.Linq;\n",
    "using CsvHelper;\n",
    "using CsvHelper.Configuration;\n",
    "using Microsoft.Data.Analysis;\n",
    "// Define a class to represent a row in the CSV file\n",
    "public class PlayRecord\n",
    "{\n",
    "    public string PLAY_ID { get; set; }\n",
    "    public int SONG_ID { get; set; }\n",
    "    public int CLIENT_ID { get; set; }\n",
    "    public DateTime PLAY_TS { get; set; }\n",
    "}\n",
    "\n",
    "// Define a class to represent the output result\n",
    "public class DistinctPlayCountResult\n",
    "{\n",
    "    public int DISTINCT_PLAY_COUNT { get; set; }\n",
    "    public int CLIENT_COUNT { get; set; }\n",
    "}"
   ]
  },
  {
   "cell_type": "markdown",
   "metadata": {},
   "source": [
    "## read csv Data"
   ]
  },
  {
   "cell_type": "code",
   "execution_count": 4,
   "id": "bec2d618",
   "metadata": {
    "dotnet_interactive": {
     "language": "csharp"
    },
    "polyglot_notebook": {
     "kernelName": "csharp"
    },
    "vscode": {
     "languageId": "polyglot-notebook"
    }
   },
   "outputs": [],
   "source": [
    "// Read the CSV file\n",
    "var csvFilePath = \"./exhibitA-input.csv\"; \n",
    "var reader = new StreamReader(csvFilePath);\n",
    "var csv = new CsvReader(reader, new CsvConfiguration(CultureInfo.InvariantCulture)\n",
    "{\n",
    "    Delimiter = \"\\t\"\n",
    "});\n",
    "\n",
    "// Parse the CSV file into a list of PlayRecord objects\n",
    "var records = csv.GetRecords<PlayRecord>().ToList();"
   ]
  },
  {
   "cell_type": "code",
   "execution_count": 5,
   "id": "55681f48",
   "metadata": {
    "dotnet_interactive": {
     "language": "csharp"
    },
    "polyglot_notebook": {
     "kernelName": "csharp"
    },
    "vscode": {
     "languageId": "polyglot-notebook"
    }
   },
   "outputs": [
    {
     "name": "stdout",
     "output_type": "stream",
     "text": [
      "Read 1400000 records from the CSV file.\n"
     ]
    }
   ],
   "source": [
    "Console.WriteLine($\"Read {records.Count} records from the CSV file.\");"
   ]
  },
  {
   "cell_type": "markdown",
   "metadata": {},
   "source": [
    "## Make it DataFrame"
   ]
  },
  {
   "cell_type": "code",
   "execution_count": 6,
   "id": "45c69584",
   "metadata": {
    "dotnet_interactive": {
     "language": "csharp"
    },
    "polyglot_notebook": {
     "kernelName": "csharp"
    },
    "vscode": {
     "languageId": "polyglot-notebook"
    }
   },
   "outputs": [
    {
     "data": {
      "text/html": [
       "<table id=\"table_638735155272690880\"><thead><tr><th><i>index</i></th><th>PLAY_ID</th><th>SONG_ID</th><th>CLIENT_ID</th><th>PLAY_TS</th></tr></thead><tbody><tr><td><i><div class=\"dni-plaintext\"><pre>0</pre></div></i></td><td>44BB190BC2493964E053CF0A000AB546</td><td><div class=\"dni-plaintext\"><pre>6164</pre></div></td><td><div class=\"dni-plaintext\"><pre>249</pre></div></td><td><span>2016-09-08 09:16:34Z</span></td></tr><tr><td><i><div class=\"dni-plaintext\"><pre>1</pre></div></i></td><td>44BB190BC24A3964E053CF0A000AB546</td><td><div class=\"dni-plaintext\"><pre>544</pre></div></td><td><div class=\"dni-plaintext\"><pre>86</pre></div></td><td><span>2016-10-08 13:54:52Z</span></td></tr><tr><td><i><div class=\"dni-plaintext\"><pre>2</pre></div></i></td><td>44BB190BC24B3964E053CF0A000AB546</td><td><div class=\"dni-plaintext\"><pre>9648</pre></div></td><td><div class=\"dni-plaintext\"><pre>589</pre></div></td><td><span>2016-08-08 06:08:53Z</span></td></tr><tr><td><i><div class=\"dni-plaintext\"><pre>3</pre></div></i></td><td>44BB190BC24C3964E053CF0A000AB546</td><td><div class=\"dni-plaintext\"><pre>7565</pre></div></td><td><div class=\"dni-plaintext\"><pre>656</pre></div></td><td><span>2016-11-08 17:30:41Z</span></td></tr><tr><td><i><div class=\"dni-plaintext\"><pre>4</pre></div></i></td><td>44BB190BC24D3964E053CF0A000AB546</td><td><div class=\"dni-plaintext\"><pre>8995</pre></div></td><td><div class=\"dni-plaintext\"><pre>348</pre></div></td><td><span>2016-11-08 02:40:39Z</span></td></tr></tbody></table><style>\r\n",
       ".dni-code-hint {\r\n",
       "    font-style: italic;\r\n",
       "    overflow: hidden;\r\n",
       "    white-space: nowrap;\r\n",
       "}\r\n",
       ".dni-treeview {\r\n",
       "    white-space: nowrap;\r\n",
       "}\r\n",
       ".dni-treeview td {\r\n",
       "    vertical-align: top;\r\n",
       "    text-align: start;\r\n",
       "}\r\n",
       "details.dni-treeview {\r\n",
       "    padding-left: 1em;\r\n",
       "}\r\n",
       "table td {\r\n",
       "    text-align: start;\r\n",
       "}\r\n",
       "table tr { \r\n",
       "    vertical-align: top; \r\n",
       "    margin: 0em 0px;\r\n",
       "}\r\n",
       "table tr td pre \r\n",
       "{ \r\n",
       "    vertical-align: top !important; \r\n",
       "    margin: 0em 0px !important;\r\n",
       "} \r\n",
       "table th {\r\n",
       "    text-align: start;\r\n",
       "}\r\n",
       "</style>"
      ]
     },
     "metadata": {},
     "output_type": "display_data"
    }
   ],
   "source": [
    "var playidcol = new StringDataFrameColumn(\"PLAY_ID\");\n",
    "var songidcol = new PrimitiveDataFrameColumn<int>(\"SONG_ID\");\n",
    "var clientidcol = new PrimitiveDataFrameColumn<int>(\"CLIENT_ID\");\n",
    "var playtscol = new PrimitiveDataFrameColumn<DateTime>(\"PLAY_TS\");\n",
    "\n",
    "foreach (var record in records)\n",
    "{\n",
    "    playidcol.Append(record.PLAY_ID);\n",
    "    songidcol.Append(record.SONG_ID);\n",
    "    clientidcol.Append(record.CLIENT_ID);\n",
    "    playtscol.Append(record.PLAY_TS);\n",
    "}\n",
    "var DataFrame = new DataFrame(playidcol, songidcol, clientidcol, playtscol);\n",
    "DataFrame.Head(5).Display();"
   ]
  },
  {
   "cell_type": "code",
   "execution_count": 7,
   "id": "adc03720",
   "metadata": {
    "dotnet_interactive": {
     "language": "csharp"
    },
    "polyglot_notebook": {
     "kernelName": "csharp"
    },
    "vscode": {
     "languageId": "polyglot-notebook"
    }
   },
   "outputs": [
    {
     "data": {
      "text/html": [
       "<table id=\"table_638735155273483720\"><thead><tr><th><i>index</i></th><th>Description</th><th>SONG_ID</th><th>CLIENT_ID</th><th>PLAY_TS</th></tr></thead><tbody><tr><td><i><div class=\"dni-plaintext\"><pre>0</pre></div></i></td><td>Length (excluding null values)</td><td><div class=\"dni-plaintext\"><pre>1400000</pre></div></td><td><div class=\"dni-plaintext\"><pre>1400000</pre></div></td><td><div class=\"dni-plaintext\"><pre>1400000</pre></div></td></tr><tr><td><i><div class=\"dni-plaintext\"><pre>1</pre></div></i></td><td>Max</td><td><div class=\"dni-plaintext\"><pre>9999</pre></div></td><td><div class=\"dni-plaintext\"><pre>999</pre></div></td><td><div class=\"dni-plaintext\"><pre>&lt;null&gt;</pre></div></td></tr><tr><td><i><div class=\"dni-plaintext\"><pre>2</pre></div></i></td><td>Min</td><td><div class=\"dni-plaintext\"><pre>1</pre></div></td><td><div class=\"dni-plaintext\"><pre>1</pre></div></td><td><div class=\"dni-plaintext\"><pre>&lt;null&gt;</pre></div></td></tr><tr><td><i><div class=\"dni-plaintext\"><pre>3</pre></div></i></td><td>Mean</td><td><div class=\"dni-plaintext\"><pre>-1136.7673</pre></div></td><td><div class=\"dni-plaintext\"><pre>499.93915</pre></div></td><td><div class=\"dni-plaintext\"><pre>&lt;null&gt;</pre></div></td></tr></tbody></table><style>\r\n",
       ".dni-code-hint {\r\n",
       "    font-style: italic;\r\n",
       "    overflow: hidden;\r\n",
       "    white-space: nowrap;\r\n",
       "}\r\n",
       ".dni-treeview {\r\n",
       "    white-space: nowrap;\r\n",
       "}\r\n",
       ".dni-treeview td {\r\n",
       "    vertical-align: top;\r\n",
       "    text-align: start;\r\n",
       "}\r\n",
       "details.dni-treeview {\r\n",
       "    padding-left: 1em;\r\n",
       "}\r\n",
       "table td {\r\n",
       "    text-align: start;\r\n",
       "}\r\n",
       "table tr { \r\n",
       "    vertical-align: top; \r\n",
       "    margin: 0em 0px;\r\n",
       "}\r\n",
       "table tr td pre \r\n",
       "{ \r\n",
       "    vertical-align: top !important; \r\n",
       "    margin: 0em 0px !important;\r\n",
       "} \r\n",
       "table th {\r\n",
       "    text-align: start;\r\n",
       "}\r\n",
       "</style>"
      ]
     },
     "metadata": {},
     "output_type": "display_data"
    }
   ],
   "source": [
    "DataFrame.Description().Display();"
   ]
  },
  {
   "cell_type": "markdown",
   "metadata": {},
   "source": [
    "## PlayCount and client count analysis"
   ]
  },
  {
   "cell_type": "code",
   "execution_count": 8,
   "id": "497f5198",
   "metadata": {
    "dotnet_interactive": {
     "language": "csharp"
    },
    "polyglot_notebook": {
     "kernelName": "csharp"
    },
    "vscode": {
     "languageId": "polyglot-notebook"
    }
   },
   "outputs": [
    {
     "data": {
      "text/html": [
       "<table id=\"table_638735155275022160\"><caption><h3 style=\"text-align: center;\">DataFrame - 97 rows </h3></caption><thead><tr><th><i>index</i></th><th>DISTINCT_PLAY_COUNT</th><th>CLIENT_COUNT</th></tr></thead><tbody><tr style=\"display: none\"><td><i><div class=\"dni-plaintext\"><pre>0</pre></div></i></td><td><div class=\"dni-plaintext\"><pre>281</pre></div></td><td><div class=\"dni-plaintext\"><pre>1</pre></div></td></tr><tr style=\"display: none\"><td><i><div class=\"dni-plaintext\"><pre>1</pre></div></i></td><td><div class=\"dni-plaintext\"><pre>293</pre></div></td><td><div class=\"dni-plaintext\"><pre>1</pre></div></td></tr><tr style=\"display: none\"><td><i><div class=\"dni-plaintext\"><pre>2</pre></div></i></td><td><div class=\"dni-plaintext\"><pre>298</pre></div></td><td><div class=\"dni-plaintext\"><pre>1</pre></div></td></tr><tr style=\"display: none\"><td><i><div class=\"dni-plaintext\"><pre>3</pre></div></i></td><td><div class=\"dni-plaintext\"><pre>299</pre></div></td><td><div class=\"dni-plaintext\"><pre>1</pre></div></td></tr><tr style=\"display: none\"><td><i><div class=\"dni-plaintext\"><pre>4</pre></div></i></td><td><div class=\"dni-plaintext\"><pre>300</pre></div></td><td><div class=\"dni-plaintext\"><pre>2</pre></div></td></tr><tr style=\"display: none\"><td><i><div class=\"dni-plaintext\"><pre>5</pre></div></i></td><td><div class=\"dni-plaintext\"><pre>301</pre></div></td><td><div class=\"dni-plaintext\"><pre>2</pre></div></td></tr><tr style=\"display: none\"><td><i><div class=\"dni-plaintext\"><pre>6</pre></div></i></td><td><div class=\"dni-plaintext\"><pre>302</pre></div></td><td><div class=\"dni-plaintext\"><pre>2</pre></div></td></tr><tr style=\"display: none\"><td><i><div class=\"dni-plaintext\"><pre>7</pre></div></i></td><td><div class=\"dni-plaintext\"><pre>303</pre></div></td><td><div class=\"dni-plaintext\"><pre>2</pre></div></td></tr><tr style=\"display: none\"><td><i><div class=\"dni-plaintext\"><pre>8</pre></div></i></td><td><div class=\"dni-plaintext\"><pre>304</pre></div></td><td><div class=\"dni-plaintext\"><pre>1</pre></div></td></tr><tr style=\"display: none\"><td><i><div class=\"dni-plaintext\"><pre>9</pre></div></i></td><td><div class=\"dni-plaintext\"><pre>305</pre></div></td><td><div class=\"dni-plaintext\"><pre>5</pre></div></td></tr><tr style=\"display: none\"><td><i><div class=\"dni-plaintext\"><pre>10</pre></div></i></td><td><div class=\"dni-plaintext\"><pre>306</pre></div></td><td><div class=\"dni-plaintext\"><pre>5</pre></div></td></tr><tr style=\"display: none\"><td><i><div class=\"dni-plaintext\"><pre>11</pre></div></i></td><td><div class=\"dni-plaintext\"><pre>307</pre></div></td><td><div class=\"dni-plaintext\"><pre>3</pre></div></td></tr><tr style=\"display: none\"><td><i><div class=\"dni-plaintext\"><pre>12</pre></div></i></td><td><div class=\"dni-plaintext\"><pre>308</pre></div></td><td><div class=\"dni-plaintext\"><pre>5</pre></div></td></tr><tr style=\"display: none\"><td><i><div class=\"dni-plaintext\"><pre>13</pre></div></i></td><td><div class=\"dni-plaintext\"><pre>309</pre></div></td><td><div class=\"dni-plaintext\"><pre>3</pre></div></td></tr><tr style=\"display: none\"><td><i><div class=\"dni-plaintext\"><pre>14</pre></div></i></td><td><div class=\"dni-plaintext\"><pre>310</pre></div></td><td><div class=\"dni-plaintext\"><pre>4</pre></div></td></tr><tr style=\"display: none\"><td><i><div class=\"dni-plaintext\"><pre>15</pre></div></i></td><td><div class=\"dni-plaintext\"><pre>311</pre></div></td><td><div class=\"dni-plaintext\"><pre>1</pre></div></td></tr><tr style=\"display: none\"><td><i><div class=\"dni-plaintext\"><pre>16</pre></div></i></td><td><div class=\"dni-plaintext\"><pre>312</pre></div></td><td><div class=\"dni-plaintext\"><pre>3</pre></div></td></tr><tr style=\"display: none\"><td><i><div class=\"dni-plaintext\"><pre>17</pre></div></i></td><td><div class=\"dni-plaintext\"><pre>313</pre></div></td><td><div class=\"dni-plaintext\"><pre>3</pre></div></td></tr><tr style=\"display: none\"><td><i><div class=\"dni-plaintext\"><pre>18</pre></div></i></td><td><div class=\"dni-plaintext\"><pre>314</pre></div></td><td><div class=\"dni-plaintext\"><pre>4</pre></div></td></tr><tr style=\"display: none\"><td><i><div class=\"dni-plaintext\"><pre>19</pre></div></i></td><td><div class=\"dni-plaintext\"><pre>315</pre></div></td><td><div class=\"dni-plaintext\"><pre>6</pre></div></td></tr><tr style=\"display: none\"><td><i><div class=\"dni-plaintext\"><pre>20</pre></div></i></td><td><div class=\"dni-plaintext\"><pre>316</pre></div></td><td><div class=\"dni-plaintext\"><pre>5</pre></div></td></tr><tr style=\"display: none\"><td><i><div class=\"dni-plaintext\"><pre>21</pre></div></i></td><td><div class=\"dni-plaintext\"><pre>317</pre></div></td><td><div class=\"dni-plaintext\"><pre>9</pre></div></td></tr><tr style=\"display: none\"><td><i><div class=\"dni-plaintext\"><pre>22</pre></div></i></td><td><div class=\"dni-plaintext\"><pre>318</pre></div></td><td><div class=\"dni-plaintext\"><pre>9</pre></div></td></tr><tr style=\"display: none\"><td><i><div class=\"dni-plaintext\"><pre>23</pre></div></i></td><td><div class=\"dni-plaintext\"><pre>319</pre></div></td><td><div class=\"dni-plaintext\"><pre>10</pre></div></td></tr><tr style=\"display: none\"><td><i><div class=\"dni-plaintext\"><pre>24</pre></div></i></td><td><div class=\"dni-plaintext\"><pre>320</pre></div></td><td><div class=\"dni-plaintext\"><pre>6</pre></div></td></tr><tr style=\"display: none\"><td><i><div class=\"dni-plaintext\"><pre>25</pre></div></i></td><td><div class=\"dni-plaintext\"><pre>321</pre></div></td><td><div class=\"dni-plaintext\"><pre>13</pre></div></td></tr><tr style=\"display: none\"><td><i><div class=\"dni-plaintext\"><pre>26</pre></div></i></td><td><div class=\"dni-plaintext\"><pre>322</pre></div></td><td><div class=\"dni-plaintext\"><pre>14</pre></div></td></tr><tr style=\"display: none\"><td><i><div class=\"dni-plaintext\"><pre>27</pre></div></i></td><td><div class=\"dni-plaintext\"><pre>323</pre></div></td><td><div class=\"dni-plaintext\"><pre>11</pre></div></td></tr><tr style=\"display: none\"><td><i><div class=\"dni-plaintext\"><pre>28</pre></div></i></td><td><div class=\"dni-plaintext\"><pre>324</pre></div></td><td><div class=\"dni-plaintext\"><pre>8</pre></div></td></tr><tr style=\"display: none\"><td><i><div class=\"dni-plaintext\"><pre>29</pre></div></i></td><td><div class=\"dni-plaintext\"><pre>325</pre></div></td><td><div class=\"dni-plaintext\"><pre>7</pre></div></td></tr><tr style=\"display: none\"><td><i><div class=\"dni-plaintext\"><pre>30</pre></div></i></td><td><div class=\"dni-plaintext\"><pre>326</pre></div></td><td><div class=\"dni-plaintext\"><pre>9</pre></div></td></tr><tr style=\"display: none\"><td><i><div class=\"dni-plaintext\"><pre>31</pre></div></i></td><td><div class=\"dni-plaintext\"><pre>327</pre></div></td><td><div class=\"dni-plaintext\"><pre>11</pre></div></td></tr><tr style=\"display: none\"><td><i><div class=\"dni-plaintext\"><pre>32</pre></div></i></td><td><div class=\"dni-plaintext\"><pre>328</pre></div></td><td><div class=\"dni-plaintext\"><pre>16</pre></div></td></tr><tr style=\"display: none\"><td><i><div class=\"dni-plaintext\"><pre>33</pre></div></i></td><td><div class=\"dni-plaintext\"><pre>329</pre></div></td><td><div class=\"dni-plaintext\"><pre>17</pre></div></td></tr><tr style=\"display: none\"><td><i><div class=\"dni-plaintext\"><pre>34</pre></div></i></td><td><div class=\"dni-plaintext\"><pre>330</pre></div></td><td><div class=\"dni-plaintext\"><pre>19</pre></div></td></tr><tr style=\"display: none\"><td><i><div class=\"dni-plaintext\"><pre>35</pre></div></i></td><td><div class=\"dni-plaintext\"><pre>331</pre></div></td><td><div class=\"dni-plaintext\"><pre>14</pre></div></td></tr><tr style=\"display: none\"><td><i><div class=\"dni-plaintext\"><pre>36</pre></div></i></td><td><div class=\"dni-plaintext\"><pre>332</pre></div></td><td><div class=\"dni-plaintext\"><pre>13</pre></div></td></tr><tr style=\"display: none\"><td><i><div class=\"dni-plaintext\"><pre>37</pre></div></i></td><td><div class=\"dni-plaintext\"><pre>333</pre></div></td><td><div class=\"dni-plaintext\"><pre>16</pre></div></td></tr><tr style=\"display: none\"><td><i><div class=\"dni-plaintext\"><pre>38</pre></div></i></td><td><div class=\"dni-plaintext\"><pre>334</pre></div></td><td><div class=\"dni-plaintext\"><pre>21</pre></div></td></tr><tr style=\"display: none\"><td><i><div class=\"dni-plaintext\"><pre>39</pre></div></i></td><td><div class=\"dni-plaintext\"><pre>335</pre></div></td><td><div class=\"dni-plaintext\"><pre>22</pre></div></td></tr><tr style=\"display: none\"><td><i><div class=\"dni-plaintext\"><pre>40</pre></div></i></td><td><div class=\"dni-plaintext\"><pre>336</pre></div></td><td><div class=\"dni-plaintext\"><pre>24</pre></div></td></tr><tr style=\"display: none\"><td><i><div class=\"dni-plaintext\"><pre>41</pre></div></i></td><td><div class=\"dni-plaintext\"><pre>337</pre></div></td><td><div class=\"dni-plaintext\"><pre>24</pre></div></td></tr><tr style=\"display: none\"><td><i><div class=\"dni-plaintext\"><pre>42</pre></div></i></td><td><div class=\"dni-plaintext\"><pre>338</pre></div></td><td><div class=\"dni-plaintext\"><pre>26</pre></div></td></tr><tr style=\"display: none\"><td><i><div class=\"dni-plaintext\"><pre>43</pre></div></i></td><td><div class=\"dni-plaintext\"><pre>339</pre></div></td><td><div class=\"dni-plaintext\"><pre>16</pre></div></td></tr><tr style=\"display: none\"><td><i><div class=\"dni-plaintext\"><pre>44</pre></div></i></td><td><div class=\"dni-plaintext\"><pre>340</pre></div></td><td><div class=\"dni-plaintext\"><pre>14</pre></div></td></tr><tr style=\"display: none\"><td><i><div class=\"dni-plaintext\"><pre>45</pre></div></i></td><td><div class=\"dni-plaintext\"><pre>341</pre></div></td><td><div class=\"dni-plaintext\"><pre>18</pre></div></td></tr><tr style=\"display: none\"><td><i><div class=\"dni-plaintext\"><pre>46</pre></div></i></td><td><div class=\"dni-plaintext\"><pre>342</pre></div></td><td><div class=\"dni-plaintext\"><pre>19</pre></div></td></tr><tr style=\"display: none\"><td><i><div class=\"dni-plaintext\"><pre>47</pre></div></i></td><td><div class=\"dni-plaintext\"><pre>343</pre></div></td><td><div class=\"dni-plaintext\"><pre>21</pre></div></td></tr><tr style=\"display: none\"><td><i><div class=\"dni-plaintext\"><pre>48</pre></div></i></td><td><div class=\"dni-plaintext\"><pre>344</pre></div></td><td><div class=\"dni-plaintext\"><pre>24</pre></div></td></tr><tr style=\"display: none\"><td><i><div class=\"dni-plaintext\"><pre>49</pre></div></i></td><td><div class=\"dni-plaintext\"><pre>345</pre></div></td><td><div class=\"dni-plaintext\"><pre>18</pre></div></td></tr><tr style=\"display: none\"><td><i><div class=\"dni-plaintext\"><pre>50</pre></div></i></td><td><div class=\"dni-plaintext\"><pre>346</pre></div></td><td><div class=\"dni-plaintext\"><pre>22</pre></div></td></tr><tr style=\"display: none\"><td><i><div class=\"dni-plaintext\"><pre>51</pre></div></i></td><td><div class=\"dni-plaintext\"><pre>347</pre></div></td><td><div class=\"dni-plaintext\"><pre>35</pre></div></td></tr><tr style=\"display: none\"><td><i><div class=\"dni-plaintext\"><pre>52</pre></div></i></td><td><div class=\"dni-plaintext\"><pre>348</pre></div></td><td><div class=\"dni-plaintext\"><pre>26</pre></div></td></tr><tr style=\"display: none\"><td><i><div class=\"dni-plaintext\"><pre>53</pre></div></i></td><td><div class=\"dni-plaintext\"><pre>349</pre></div></td><td><div class=\"dni-plaintext\"><pre>18</pre></div></td></tr><tr style=\"display: none\"><td><i><div class=\"dni-plaintext\"><pre>54</pre></div></i></td><td><div class=\"dni-plaintext\"><pre>350</pre></div></td><td><div class=\"dni-plaintext\"><pre>27</pre></div></td></tr><tr style=\"display: none\"><td><i><div class=\"dni-plaintext\"><pre>55</pre></div></i></td><td><div class=\"dni-plaintext\"><pre>351</pre></div></td><td><div class=\"dni-plaintext\"><pre>16</pre></div></td></tr><tr style=\"display: none\"><td><i><div class=\"dni-plaintext\"><pre>56</pre></div></i></td><td><div class=\"dni-plaintext\"><pre>352</pre></div></td><td><div class=\"dni-plaintext\"><pre>29</pre></div></td></tr><tr style=\"display: none\"><td><i><div class=\"dni-plaintext\"><pre>57</pre></div></i></td><td><div class=\"dni-plaintext\"><pre>353</pre></div></td><td><div class=\"dni-plaintext\"><pre>16</pre></div></td></tr><tr style=\"display: none\"><td><i><div class=\"dni-plaintext\"><pre>58</pre></div></i></td><td><div class=\"dni-plaintext\"><pre>354</pre></div></td><td><div class=\"dni-plaintext\"><pre>29</pre></div></td></tr><tr style=\"display: none\"><td><i><div class=\"dni-plaintext\"><pre>59</pre></div></i></td><td><div class=\"dni-plaintext\"><pre>355</pre></div></td><td><div class=\"dni-plaintext\"><pre>19</pre></div></td></tr><tr style=\"display: none\"><td><i><div class=\"dni-plaintext\"><pre>60</pre></div></i></td><td><div class=\"dni-plaintext\"><pre>356</pre></div></td><td><div class=\"dni-plaintext\"><pre>14</pre></div></td></tr><tr style=\"display: none\"><td><i><div class=\"dni-plaintext\"><pre>61</pre></div></i></td><td><div class=\"dni-plaintext\"><pre>357</pre></div></td><td><div class=\"dni-plaintext\"><pre>17</pre></div></td></tr><tr style=\"display: none\"><td><i><div class=\"dni-plaintext\"><pre>62</pre></div></i></td><td><div class=\"dni-plaintext\"><pre>358</pre></div></td><td><div class=\"dni-plaintext\"><pre>27</pre></div></td></tr><tr style=\"display: none\"><td><i><div class=\"dni-plaintext\"><pre>63</pre></div></i></td><td><div class=\"dni-plaintext\"><pre>359</pre></div></td><td><div class=\"dni-plaintext\"><pre>13</pre></div></td></tr><tr style=\"display: none\"><td><i><div class=\"dni-plaintext\"><pre>64</pre></div></i></td><td><div class=\"dni-plaintext\"><pre>360</pre></div></td><td><div class=\"dni-plaintext\"><pre>18</pre></div></td></tr><tr style=\"display: none\"><td><i><div class=\"dni-plaintext\"><pre>65</pre></div></i></td><td><div class=\"dni-plaintext\"><pre>361</pre></div></td><td><div class=\"dni-plaintext\"><pre>13</pre></div></td></tr><tr style=\"display: none\"><td><i><div class=\"dni-plaintext\"><pre>66</pre></div></i></td><td><div class=\"dni-plaintext\"><pre>362</pre></div></td><td><div class=\"dni-plaintext\"><pre>22</pre></div></td></tr><tr style=\"display: none\"><td><i><div class=\"dni-plaintext\"><pre>67</pre></div></i></td><td><div class=\"dni-plaintext\"><pre>363</pre></div></td><td><div class=\"dni-plaintext\"><pre>8</pre></div></td></tr><tr style=\"display: none\"><td><i><div class=\"dni-plaintext\"><pre>68</pre></div></i></td><td><div class=\"dni-plaintext\"><pre>364</pre></div></td><td><div class=\"dni-plaintext\"><pre>14</pre></div></td></tr><tr style=\"display: none\"><td><i><div class=\"dni-plaintext\"><pre>69</pre></div></i></td><td><div class=\"dni-plaintext\"><pre>365</pre></div></td><td><div class=\"dni-plaintext\"><pre>8</pre></div></td></tr><tr style=\"display: none\"><td><i><div class=\"dni-plaintext\"><pre>70</pre></div></i></td><td><div class=\"dni-plaintext\"><pre>366</pre></div></td><td><div class=\"dni-plaintext\"><pre>4</pre></div></td></tr><tr style=\"display: none\"><td><i><div class=\"dni-plaintext\"><pre>71</pre></div></i></td><td><div class=\"dni-plaintext\"><pre>367</pre></div></td><td><div class=\"dni-plaintext\"><pre>9</pre></div></td></tr><tr style=\"display: none\"><td><i><div class=\"dni-plaintext\"><pre>72</pre></div></i></td><td><div class=\"dni-plaintext\"><pre>368</pre></div></td><td><div class=\"dni-plaintext\"><pre>10</pre></div></td></tr><tr style=\"display: none\"><td><i><div class=\"dni-plaintext\"><pre>73</pre></div></i></td><td><div class=\"dni-plaintext\"><pre>369</pre></div></td><td><div class=\"dni-plaintext\"><pre>7</pre></div></td></tr><tr style=\"display: none\"><td><i><div class=\"dni-plaintext\"><pre>74</pre></div></i></td><td><div class=\"dni-plaintext\"><pre>370</pre></div></td><td><div class=\"dni-plaintext\"><pre>5</pre></div></td></tr><tr style=\"display: none\"><td><i><div class=\"dni-plaintext\"><pre>75</pre></div></i></td><td><div class=\"dni-plaintext\"><pre>371</pre></div></td><td><div class=\"dni-plaintext\"><pre>4</pre></div></td></tr><tr style=\"display: none\"><td><i><div class=\"dni-plaintext\"><pre>76</pre></div></i></td><td><div class=\"dni-plaintext\"><pre>372</pre></div></td><td><div class=\"dni-plaintext\"><pre>4</pre></div></td></tr><tr style=\"display: none\"><td><i><div class=\"dni-plaintext\"><pre>77</pre></div></i></td><td><div class=\"dni-plaintext\"><pre>373</pre></div></td><td><div class=\"dni-plaintext\"><pre>8</pre></div></td></tr><tr style=\"display: none\"><td><i><div class=\"dni-plaintext\"><pre>78</pre></div></i></td><td><div class=\"dni-plaintext\"><pre>374</pre></div></td><td><div class=\"dni-plaintext\"><pre>2</pre></div></td></tr><tr style=\"display: none\"><td><i><div class=\"dni-plaintext\"><pre>79</pre></div></i></td><td><div class=\"dni-plaintext\"><pre>375</pre></div></td><td><div class=\"dni-plaintext\"><pre>5</pre></div></td></tr><tr style=\"display: none\"><td><i><div class=\"dni-plaintext\"><pre>80</pre></div></i></td><td><div class=\"dni-plaintext\"><pre>376</pre></div></td><td><div class=\"dni-plaintext\"><pre>4</pre></div></td></tr><tr style=\"display: none\"><td><i><div class=\"dni-plaintext\"><pre>81</pre></div></i></td><td><div class=\"dni-plaintext\"><pre>377</pre></div></td><td><div class=\"dni-plaintext\"><pre>8</pre></div></td></tr><tr style=\"display: none\"><td><i><div class=\"dni-plaintext\"><pre>82</pre></div></i></td><td><div class=\"dni-plaintext\"><pre>378</pre></div></td><td><div class=\"dni-plaintext\"><pre>3</pre></div></td></tr><tr style=\"display: none\"><td><i><div class=\"dni-plaintext\"><pre>83</pre></div></i></td><td><div class=\"dni-plaintext\"><pre>379</pre></div></td><td><div class=\"dni-plaintext\"><pre>2</pre></div></td></tr><tr style=\"display: none\"><td><i><div class=\"dni-plaintext\"><pre>84</pre></div></i></td><td><div class=\"dni-plaintext\"><pre>381</pre></div></td><td><div class=\"dni-plaintext\"><pre>3</pre></div></td></tr><tr style=\"display: none\"><td><i><div class=\"dni-plaintext\"><pre>85</pre></div></i></td><td><div class=\"dni-plaintext\"><pre>382</pre></div></td><td><div class=\"dni-plaintext\"><pre>4</pre></div></td></tr><tr style=\"display: none\"><td><i><div class=\"dni-plaintext\"><pre>86</pre></div></i></td><td><div class=\"dni-plaintext\"><pre>383</pre></div></td><td><div class=\"dni-plaintext\"><pre>1</pre></div></td></tr><tr style=\"display: none\"><td><i><div class=\"dni-plaintext\"><pre>87</pre></div></i></td><td><div class=\"dni-plaintext\"><pre>384</pre></div></td><td><div class=\"dni-plaintext\"><pre>2</pre></div></td></tr><tr style=\"display: none\"><td><i><div class=\"dni-plaintext\"><pre>88</pre></div></i></td><td><div class=\"dni-plaintext\"><pre>385</pre></div></td><td><div class=\"dni-plaintext\"><pre>2</pre></div></td></tr><tr style=\"display: none\"><td><i><div class=\"dni-plaintext\"><pre>89</pre></div></i></td><td><div class=\"dni-plaintext\"><pre>386</pre></div></td><td><div class=\"dni-plaintext\"><pre>1</pre></div></td></tr><tr style=\"display: none\"><td><i><div class=\"dni-plaintext\"><pre>90</pre></div></i></td><td><div class=\"dni-plaintext\"><pre>387</pre></div></td><td><div class=\"dni-plaintext\"><pre>3</pre></div></td></tr><tr style=\"display: none\"><td><i><div class=\"dni-plaintext\"><pre>91</pre></div></i></td><td><div class=\"dni-plaintext\"><pre>388</pre></div></td><td><div class=\"dni-plaintext\"><pre>1</pre></div></td></tr><tr style=\"display: none\"><td><i><div class=\"dni-plaintext\"><pre>92</pre></div></i></td><td><div class=\"dni-plaintext\"><pre>389</pre></div></td><td><div class=\"dni-plaintext\"><pre>3</pre></div></td></tr><tr style=\"display: none\"><td><i><div class=\"dni-plaintext\"><pre>93</pre></div></i></td><td><div class=\"dni-plaintext\"><pre>390</pre></div></td><td><div class=\"dni-plaintext\"><pre>1</pre></div></td></tr><tr style=\"display: none\"><td><i><div class=\"dni-plaintext\"><pre>94</pre></div></i></td><td><div class=\"dni-plaintext\"><pre>391</pre></div></td><td><div class=\"dni-plaintext\"><pre>1</pre></div></td></tr><tr style=\"display: none\"><td><i><div class=\"dni-plaintext\"><pre>95</pre></div></i></td><td><div class=\"dni-plaintext\"><pre>392</pre></div></td><td><div class=\"dni-plaintext\"><pre>1</pre></div></td></tr><tr style=\"display: none\"><td><i><div class=\"dni-plaintext\"><pre>96</pre></div></i></td><td><div class=\"dni-plaintext\"><pre>393</pre></div></td><td><div class=\"dni-plaintext\"><pre>1</pre></div></td></tr></tbody><tfoot><tr><td colspan=\"3\" style=\"text-align: center;\"><button style=\"margin: 2px;\" onclick=\"var allRows = document.querySelectorAll(&#39;#table_638735155275022160 tbody tr:nth-child(n)&#39;); for (let i = 0; i &lt; allRows.length; i++) { allRows[i].style.display=&#39;none&#39;; } document.querySelector(&#39;#page_638735155275022160&#39;).innerHTML = 1; var page = parseInt(document.querySelector(&#39;#page_638735155275022160&#39;).innerHTML) - 1; var pageRows = document.querySelectorAll(`#table_638735155275022160 tbody tr:nth-child(n + ${page * 25 + 1 })`); for (let j = 0; j &lt; 25; j++) { pageRows[j].style.display=&#39;table-row&#39;; } \">⏮</button><button style=\"margin: 2px;\" onclick=\"var allRows = document.querySelectorAll(&#39;#table_638735155275022160 tbody tr:nth-child(n)&#39;); for (let i = 0; i &lt; allRows.length; i++) { allRows[i].style.display=&#39;none&#39;; } var page = parseInt(document.querySelector(&#39;#page_638735155275022160&#39;).innerHTML) - 1; page = parseInt(page) + parseInt(-10); page = page &lt; 0 ? 0 : page; page = page > 3 ? 3 : page; document.querySelector(&#39;#page_638735155275022160&#39;).innerHTML = page + 1; var page = parseInt(document.querySelector(&#39;#page_638735155275022160&#39;).innerHTML) - 1; var pageRows = document.querySelectorAll(`#table_638735155275022160 tbody tr:nth-child(n + ${page * 25 + 1 })`); for (let j = 0; j &lt; 25; j++) { pageRows[j].style.display=&#39;table-row&#39;; } \">⏪</button><button style=\"margin: 2px;\" onclick=\"var allRows = document.querySelectorAll(&#39;#table_638735155275022160 tbody tr:nth-child(n)&#39;); for (let i = 0; i &lt; allRows.length; i++) { allRows[i].style.display=&#39;none&#39;; } var page = parseInt(document.querySelector(&#39;#page_638735155275022160&#39;).innerHTML) - 1; page = parseInt(page) + parseInt(-1); page = page &lt; 0 ? 0 : page; page = page > 3 ? 3 : page; document.querySelector(&#39;#page_638735155275022160&#39;).innerHTML = page + 1; var page = parseInt(document.querySelector(&#39;#page_638735155275022160&#39;).innerHTML) - 1; var pageRows = document.querySelectorAll(`#table_638735155275022160 tbody tr:nth-child(n + ${page * 25 + 1 })`); for (let j = 0; j &lt; 25; j++) { pageRows[j].style.display=&#39;table-row&#39;; } \">◀️</button><b style=\"margin: 2px;\">Page</b><b id=\"page_638735155275022160\" style=\"margin: 2px;\">1</b><button style=\"margin: 2px;\" onclick=\"var allRows = document.querySelectorAll(&#39;#table_638735155275022160 tbody tr:nth-child(n)&#39;); for (let i = 0; i &lt; allRows.length; i++) { allRows[i].style.display=&#39;none&#39;; } var page = parseInt(document.querySelector(&#39;#page_638735155275022160&#39;).innerHTML) - 1; page = parseInt(page) + parseInt(1); page = page &lt; 0 ? 0 : page; page = page > 3 ? 3 : page; document.querySelector(&#39;#page_638735155275022160&#39;).innerHTML = page + 1; var page = parseInt(document.querySelector(&#39;#page_638735155275022160&#39;).innerHTML) - 1; var pageRows = document.querySelectorAll(`#table_638735155275022160 tbody tr:nth-child(n + ${page * 25 + 1 })`); for (let j = 0; j &lt; 25; j++) { pageRows[j].style.display=&#39;table-row&#39;; } \">▶️</button><button style=\"margin: 2px;\" onclick=\"var allRows = document.querySelectorAll(&#39;#table_638735155275022160 tbody tr:nth-child(n)&#39;); for (let i = 0; i &lt; allRows.length; i++) { allRows[i].style.display=&#39;none&#39;; } var page = parseInt(document.querySelector(&#39;#page_638735155275022160&#39;).innerHTML) - 1; page = parseInt(page) + parseInt(10); page = page &lt; 0 ? 0 : page; page = page > 3 ? 3 : page; document.querySelector(&#39;#page_638735155275022160&#39;).innerHTML = page + 1; var page = parseInt(document.querySelector(&#39;#page_638735155275022160&#39;).innerHTML) - 1; var pageRows = document.querySelectorAll(`#table_638735155275022160 tbody tr:nth-child(n + ${page * 25 + 1 })`); for (let j = 0; j &lt; 25; j++) { pageRows[j].style.display=&#39;table-row&#39;; } \">⏩</button><button style=\"margin: 2px;\" onclick=\"var allRows = document.querySelectorAll(&#39;#table_638735155275022160 tbody tr:nth-child(n)&#39;); for (let i = 0; i &lt; allRows.length; i++) { allRows[i].style.display=&#39;none&#39;; } document.querySelector(&#39;#page_638735155275022160&#39;).innerHTML = 4; var page = parseInt(document.querySelector(&#39;#page_638735155275022160&#39;).innerHTML) - 1; var pageRows = document.querySelectorAll(`#table_638735155275022160 tbody tr:nth-child(n + ${page * 25 + 1 })`); for (let j = 0; j &lt; 25; j++) { pageRows[j].style.display=&#39;table-row&#39;; } \">⏭️</button></td></tr></tfoot></table><style>\r\n",
       ".dni-code-hint {\r\n",
       "    font-style: italic;\r\n",
       "    overflow: hidden;\r\n",
       "    white-space: nowrap;\r\n",
       "}\r\n",
       ".dni-treeview {\r\n",
       "    white-space: nowrap;\r\n",
       "}\r\n",
       ".dni-treeview td {\r\n",
       "    vertical-align: top;\r\n",
       "    text-align: start;\r\n",
       "}\r\n",
       "details.dni-treeview {\r\n",
       "    padding-left: 1em;\r\n",
       "}\r\n",
       "table td {\r\n",
       "    text-align: start;\r\n",
       "}\r\n",
       "table tr { \r\n",
       "    vertical-align: top; \r\n",
       "    margin: 0em 0px;\r\n",
       "}\r\n",
       "table tr td pre \r\n",
       "{ \r\n",
       "    vertical-align: top !important; \r\n",
       "    margin: 0em 0px !important;\r\n",
       "} \r\n",
       "table th {\r\n",
       "    text-align: start;\r\n",
       "}\r\n",
       "</style><script>var page = parseInt(document.querySelector('#page_638735155275022160').innerHTML) - 1; var pageRows = document.querySelectorAll(`#table_638735155275022160 tbody tr:nth-child(n + ${page * 25 + 1 })`); for (let j = 0; j < 25; j++) { pageRows[j].style.display='table-row'; } </script>"
      ]
     },
     "metadata": {},
     "output_type": "display_data"
    }
   ],
   "source": [
    "var targetDate = new DateTime(2016, 10, 8);\n",
    "var filteredRecords = records\n",
    "    .Where(r => r.PLAY_TS.Date == targetDate)\n",
    "    .ToList();\n",
    "\n",
    "// Group by CLIENT_ID and count distinct SONG_ID for each client\n",
    "var clientDistinctSongCounts = filteredRecords\n",
    "    .GroupBy(r => r.CLIENT_ID)\n",
    "    .Select(g => new\n",
    "    {\n",
    "        CLIENT_ID = g.Key,\n",
    "        DISTINCT_SONG_COUNT = g.Select(r => r.SONG_ID).Distinct().Count()\n",
    "    })\n",
    "    .ToList();\n",
    "\n",
    "// Group by DISTINCT_SONG_COUNT and count the number of clients\n",
    "var result = clientDistinctSongCounts\n",
    "    .GroupBy(c => c.DISTINCT_SONG_COUNT)\n",
    "    .Select(g => new\n",
    "    {\n",
    "        DISTINCT_PLAY_COUNT = g.Key,\n",
    "        CLIENT_COUNT = g.Count()\n",
    "    })\n",
    "    .OrderBy(r => r.DISTINCT_PLAY_COUNT)\n",
    "    .ToList();\n",
    "\n",
    "// Create a DataFrame\n",
    "var distinctPlayCountColumn = new PrimitiveDataFrameColumn<int>(\"DISTINCT_PLAY_COUNT\");\n",
    "var clientCountColumn = new PrimitiveDataFrameColumn<int>(\"CLIENT_COUNT\");\n",
    "\n",
    "foreach (var item in result)\n",
    "{\n",
    "    distinctPlayCountColumn.Append(item.DISTINCT_PLAY_COUNT);\n",
    "    clientCountColumn.Append(item.CLIENT_COUNT);\n",
    "}\n",
    "\n",
    "var dataFrame = new DataFrame(distinctPlayCountColumn, clientCountColumn);\n",
    "\n",
    "dataFrame.Display();"
   ]
  },
  {
   "cell_type": "markdown",
   "metadata": {},
   "source": [
    "## Save as csv"
   ]
  },
  {
   "cell_type": "code",
   "execution_count": 9,
   "id": "9eb0e8fc",
   "metadata": {
    "dotnet_interactive": {
     "language": "csharp"
    },
    "polyglot_notebook": {
     "kernelName": "csharp"
    },
    "vscode": {
     "languageId": "polyglot-notebook"
    }
   },
   "outputs": [],
   "source": [
    "public static void SaveDataFrameToCsv(DataFrame dataFrame, string filePath, char delimiter)\n",
    "{\n",
    "    using var writer = new StreamWriter(filePath);\n",
    "\n",
    "    // Write the header\n",
    "    var header = string.Join(delimiter, dataFrame.Columns.Select(c => c.Name));\n",
    "    writer.WriteLine(header);\n",
    "\n",
    "    // Write the rows\n",
    "    for (long i = 0; i < dataFrame.Rows.Count; i++)\n",
    "    {\n",
    "        var row = dataFrame.Rows[i];\n",
    "        var rowValues = new List<string>();\n",
    "\n",
    "        for (int j = 0; j < dataFrame.Columns.Count; j++)\n",
    "        {\n",
    "            rowValues.Add(row[j]?.ToString() ?? string.Empty);\n",
    "        }\n",
    "\n",
    "        var line = string.Join(delimiter, rowValues);\n",
    "        writer.WriteLine(line);\n",
    "    }\n",
    "}"
   ]
  },
  {
   "cell_type": "code",
   "execution_count": 10,
   "id": "f0a5305d",
   "metadata": {
    "dotnet_interactive": {
     "language": "csharp"
    },
    "polyglot_notebook": {
     "kernelName": "csharp"
    },
    "vscode": {
     "languageId": "polyglot-notebook"
    }
   },
   "outputs": [
    {
     "name": "stdout",
     "output_type": "stream",
     "text": [
      "\n",
      "DataFrame saved to ./output.csv\n"
     ]
    }
   ],
   "source": [
    "// Save the DataFrame to a tab-delimited CSV file\n",
    "var outputFilePath = \"./output.csv\";\n",
    "SaveDataFrameToCsv(dataFrame, outputFilePath, '\\t'); // Use tab as the delimiter\n",
    "\n",
    "Console.WriteLine($\"\\nDataFrame saved to {outputFilePath}\");"
   ]
  }
 ],
 "metadata": {
  "kernelInfo": {
   "defaultKernelName": null,
   "items": [
    {
     "aliases": [
      "c#",
      "cs"
     ],
     "languageName": "C#",
     "name": "csharp"
    },
    {
     "aliases": [
      "f#",
      "fs"
     ],
     "languageName": "F#",
     "name": "fsharp"
    },
    {
     "languageName": "HTML",
     "name": "html"
    },
    {
     "languageName": "HTTP",
     "name": "http"
    },
    {
     "aliases": [
      "js"
     ],
     "languageName": "JavaScript",
     "name": "javascript"
    },
    {
     "languageName": "KQL",
     "name": "kql"
    },
    {
     "languageName": "Mermaid",
     "name": "mermaid"
    },
    {
     "aliases": [
      "powershell"
     ],
     "languageName": "PowerShell",
     "name": "pwsh"
    },
    {
     "languageName": "SQL",
     "name": "sql"
    },
    {
     "name": "value"
    }
   ]
  },
  "kernelspec": {
   "display_name": ".NET (C#)",
   "language": "C#",
   "name": ".net-csharp"
  },
  "language_info": {
   "name": "python"
  },
  "metadata": {
   "kernelspec": {
    "display_name": ".NET (C#)",
    "language": "C#",
    "name": ".net-csharp"
   },
   "polyglot_notebook": {
    "kernelInfo": {
     "defaultKernelName": "csharp",
     "items": [
      {
       "aliases": [],
       "name": "csharp"
      }
     ]
    }
   }
  },
  "polyglot_notebook": {
   "kernelInfo": {
    "defaultKernelName": "csharp",
    "items": [
     {
      "aliases": [],
      "name": "csharp"
     }
    ]
   }
  }
 },
 "nbformat": 4,
 "nbformat_minor": 5
}
