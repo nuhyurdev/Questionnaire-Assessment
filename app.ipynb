{
 "cells": [
  {
   "cell_type": "markdown",
   "metadata": {},
   "source": [
    "## Install Dependencies"
   ]
  },
  {
   "cell_type": "code",
   "execution_count": 2,
   "id": "81914430",
   "metadata": {
    "dotnet_interactive": {
     "language": "csharp"
    },
    "polyglot_notebook": {
     "kernelName": "csharp"
    },
    "vscode": {
     "languageId": "polyglot-notebook"
    }
   },
   "outputs": [
    {
     "data": {
      "text/html": [
       "<div><div></div><div></div><div><strong>Installed Packages</strong><ul><li><span>CsvHelper, 33.0.1</span></li><li><span>Microsoft.Data.Analysis, 0.22.1</span></li></ul></div></div>"
      ]
     },
     "metadata": {},
     "output_type": "display_data"
    }
   ],
   "source": [
    "#r \"nuget: CsvHelper\"\n",
    "#r \"nuget: Microsoft.Data.Analysis\""
   ]
  },
  {
   "cell_type": "markdown",
   "metadata": {},
   "source": [
    "## Imports && Define Classes"
   ]
  },
  {
   "cell_type": "code",
   "execution_count": 3,
   "id": "a684d17d",
   "metadata": {
    "dotnet_interactive": {
     "language": "csharp"
    },
    "polyglot_notebook": {
     "kernelName": "csharp"
    },
    "vscode": {
     "languageId": "polyglot-notebook"
    }
   },
   "outputs": [],
   "source": [
    "using System;\n",
    "using System.Collections.Generic;\n",
    "using System.Globalization;\n",
    "using System.IO;\n",
    "using System.Linq;\n",
    "using CsvHelper;\n",
    "using CsvHelper.Configuration;\n",
    "using Microsoft.Data.Analysis;\n",
    "// Define a class to represent a row in the CSV file\n",
    "public class PlayRecord\n",
    "{\n",
    "    public string PLAY_ID { get; set; }\n",
    "    public int SONG_ID { get; set; }\n",
    "    public int CLIENT_ID { get; set; }\n",
    "    public DateTime PLAY_TS { get; set; }\n",
    "}\n",
    "\n",
    "// Define a class to represent the output result\n",
    "public class DistinctPlayCountResult\n",
    "{\n",
    "    public int DISTINCT_PLAY_COUNT { get; set; }\n",
    "    public int CLIENT_COUNT { get; set; }\n",
    "}"
   ]
  },
  {
   "cell_type": "markdown",
   "metadata": {},
   "source": [
    "## read csv Data"
   ]
  },
  {
   "cell_type": "code",
   "execution_count": 4,
   "id": "bec2d618",
   "metadata": {
    "dotnet_interactive": {
     "language": "csharp"
    },
    "polyglot_notebook": {
     "kernelName": "csharp"
    },
    "vscode": {
     "languageId": "polyglot-notebook"
    }
   },
   "outputs": [],
   "source": [
    "// Read the CSV file\n",
    "var csvFilePath = \"./exhibitA-input.csv\"; \n",
    "var reader = new StreamReader(csvFilePath);\n",
    "var csv = new CsvReader(reader, new CsvConfiguration(CultureInfo.InvariantCulture)\n",
    "{\n",
    "    Delimiter = \"\\t\"\n",
    "});\n",
    "\n",
    "// Parse the CSV file into a list of PlayRecord objects\n",
    "var records = csv.GetRecords<PlayRecord>().ToList();"
   ]
  },
  {
   "cell_type": "code",
   "execution_count": 5,
   "id": "55681f48",
   "metadata": {
    "dotnet_interactive": {
     "language": "csharp"
    },
    "polyglot_notebook": {
     "kernelName": "csharp"
    },
    "vscode": {
     "languageId": "polyglot-notebook"
    }
   },
   "outputs": [
    {
     "name": "stdout",
     "output_type": "stream",
     "text": [
      "Read 1400000 records from the CSV file.\n"
     ]
    }
   ],
   "source": [
    "Console.WriteLine($\"Read {records.Count} records from the CSV file.\");"
   ]
  },
  {
   "cell_type": "markdown",
   "metadata": {},
   "source": [
    "## Make it DataFrame"
   ]
  },
  {
   "cell_type": "code",
   "execution_count": 6,
   "id": "45c69584",
   "metadata": {
    "dotnet_interactive": {
     "language": "csharp"
    },
    "polyglot_notebook": {
     "kernelName": "csharp"
    },
    "vscode": {
     "languageId": "polyglot-notebook"
    }
   },
   "outputs": [
    {
     "data": {
      "text/html": [
       "<table id=\"table_638735155272690880\"><thead><tr><th><i>index</i></th><th>PLAY_ID</th><th>SONG_ID</th><th>CLIENT_ID</th><th>PLAY_TS</th></tr></thead><tbody><tr><td><i><div class=\"dni-plaintext\"><pre>0</pre></div></i></td><td>44BB190BC2493964E053CF0A000AB546</td><td><div class=\"dni-plaintext\"><pre>6164</pre></div></td><td><div class=\"dni-plaintext\"><pre>249</pre></div></td><td><span>2016-09-08 09:16:34Z</span></td></tr><tr><td><i><div class=\"dni-plaintext\"><pre>1</pre></div></i></td><td>44BB190BC24A3964E053CF0A000AB546</td><td><div class=\"dni-plaintext\"><pre>544</pre></div></td><td><div class=\"dni-plaintext\"><pre>86</pre></div></td><td><span>2016-10-08 13:54:52Z</span></td></tr><tr><td><i><div class=\"dni-plaintext\"><pre>2</pre></div></i></td><td>44BB190BC24B3964E053CF0A000AB546</td><td><div class=\"dni-plaintext\"><pre>9648</pre></div></td><td><div class=\"dni-plaintext\"><pre>589</pre></div></td><td><span>2016-08-08 06:08:53Z</span></td></tr><tr><td><i><div class=\"dni-plaintext\"><pre>3</pre></div></i></td><td>44BB190BC24C3964E053CF0A000AB546</td><td><div class=\"dni-plaintext\"><pre>7565</pre></div></td><td><div class=\"dni-plaintext\"><pre>656</pre></div></td><td><span>2016-11-08 17:30:41Z</span></td></tr><tr><td><i><div class=\"dni-plaintext\"><pre>4</pre></div></i></td><td>44BB190BC24D3964E053CF0A000AB546</td><td><div class=\"dni-plaintext\"><pre>8995</pre></div></td><td><div class=\"dni-plaintext\"><pre>348</pre></div></td><td><span>2016-11-08 02:40:39Z</span></td></tr></tbody></table><style>\r\n",
       ".dni-code-hint {\r\n",
       "    font-style: italic;\r\n",
       "    overflow: hidden;\r\n",
       "    white-space: nowrap;\r\n",
       "}\r\n",
       ".dni-treeview {\r\n",
       "    white-space: nowrap;\r\n",
       "}\r\n",
       ".dni-treeview td {\r\n",
       "    vertical-align: top;\r\n",
       "    text-align: start;\r\n",
       "}\r\n",
       "details.dni-treeview {\r\n",
       "    padding-left: 1em;\r\n",
       "}\r\n",
       "table td {\r\n",
       "    text-align: start;\r\n",
       "}\r\n",
       "table tr { \r\n",
       "    vertical-align: top; \r\n",
       "    margin: 0em 0px;\r\n",
       "}\r\n",
       "table tr td pre \r\n",
       "{ \r\n",
       "    vertical-align: top !important; \r\n",
       "    margin: 0em 0px !important;\r\n",
       "} \r\n",
       "table th {\r\n",
       "    text-align: start;\r\n",
       "}\r\n",
       "</style>"
      ]
     },
     "metadata": {},
     "output_type": "display_data"
    }
   ],
   "source": [
    "var playidcol = new StringDataFrameColumn(\"PLAY_ID\");\n",
    "var songidcol = new PrimitiveDataFrameColumn<int>(\"SONG_ID\");\n",
    "var clientidcol = new PrimitiveDataFrameColumn<int>(\"CLIENT_ID\");\n",
    "var playtscol = new PrimitiveDataFrameColumn<DateTime>(\"PLAY_TS\");\n",
    "\n",
    "foreach (var record in records)\n",
    "{\n",
    "    playidcol.Append(record.PLAY_ID);\n",
    "    songidcol.Append(record.SONG_ID);\n",
    "    clientidcol.Append(record.CLIENT_ID);\n",
    "    playtscol.Append(record.PLAY_TS);\n",
    "}\n",
    "var DataFrame = new DataFrame(playidcol, songidcol, clientidcol, playtscol);\n",
    "DataFrame.Head(5).Display();"
   ]
  },
  {
   "cell_type": "code",
   "execution_count": 7,
   "id": "adc03720",
   "metadata": {
    "dotnet_interactive": {
     "language": "csharp"
    },
    "polyglot_notebook": {
     "kernelName": "csharp"
    },
    "vscode": {
     "languageId": "polyglot-notebook"
    }
   },
   "outputs": [
    {
     "data": {
      "text/html": [
       "<table id=\"table_638735155273483720\"><thead><tr><th><i>index</i></th><th>Description</th><th>SONG_ID</th><th>CLIENT_ID</th><th>PLAY_TS</th></tr></thead><tbody><tr><td><i><div class=\"dni-plaintext\"><pre>0</pre></div></i></td><td>Length (excluding null values)</td><td><div class=\"dni-plaintext\"><pre>1400000</pre></div></td><td><div class=\"dni-plaintext\"><pre>1400000</pre></div></td><td><div class=\"dni-plaintext\"><pre>1400000</pre></div></td></tr><tr><td><i><div class=\"dni-plaintext\"><pre>1</pre></div></i></td><td>Max</td><td><div class=\"dni-plaintext\"><pre>9999</pre></div></td><td><div class=\"dni-plaintext\"><pre>999</pre></div></td><td><div class=\"dni-plaintext\"><pre>&lt;null&gt;</pre></div></td></tr><tr><td><i><div class=\"dni-plaintext\"><pre>2</pre></div></i></td><td>Min</td><td><div class=\"dni-plaintext\"><pre>1</pre></div></td><td><div class=\"dni-plaintext\"><pre>1</pre></div></td><td><div class=\"dni-plaintext\"><pre>&lt;null&gt;</pre></div></td></tr><tr><td><i><div class=\"dni-plaintext\"><pre>3</pre></div></i></td><td>Mean</td><td><div class=\"dni-plaintext\"><pre>-1136.7673</pre></div></td><td><div class=\"dni-plaintext\"><pre>499.93915</pre></div></td><td><div class=\"dni-plaintext\"><pre>&lt;null&gt;</pre></div></td></tr></tbody></table><style>\r\n",
       ".dni-code-hint {\r\n",
       "    font-style: italic;\r\n",
       "    overflow: hidden;\r\n",
       "    white-space: nowrap;\r\n",
       "}\r\n",
       ".dni-treeview {\r\n",
       "    white-space: nowrap;\r\n",
       "}\r\n",
       ".dni-treeview td {\r\n",
       "    vertical-align: top;\r\n",
       "    text-align: start;\r\n",
       "}\r\n",
       "details.dni-treeview {\r\n",
       "    padding-left: 1em;\r\n",
       "}\r\n",
       "table td {\r\n",
       "    text-align: start;\r\n",
       "}\r\n",
       "table tr { \r\n",
       "    vertical-align: top; \r\n",
       "    margin: 0em 0px;\r\n",
       "}\r\n",
       "table tr td pre \r\n",
       "{ \r\n",
       "    vertical-align: top !important; \r\n",
       "    margin: 0em 0px !important;\r\n",
       "} \r\n",
       "table th {\r\n",
       "    text-align: start;\r\n",
       "}\r\n",
       "</style>"
      ]
     },
     "metadata": {},
     "output_type": "display_data"
    }
   ],
   "source": [
    "DataFrame.Description().Display();"
   ]
  },
  {
   "cell_type": "markdown",
   "metadata": {},
   "source": [
    "## PlayCount and client count analysis"
   ]
  },
  {
   "cell_type": "code",
   "execution_count": 11,
   "id": "497f5198",
   "metadata": {
    "dotnet_interactive": {
     "language": "csharp"
    },
    "polyglot_notebook": {
     "kernelName": "csharp"
    },
    "vscode": {
     "languageId": "polyglot-notebook"
    }
   },
   "outputs": [
    {
     "data": {
      "text/html": [
       "<table id=\"table_638735156664699610\"><thead><tr><th><i>index</i></th><th>DISTINCT_PLAY_COUNT</th><th>CLIENT_COUNT</th></tr></thead><tbody><tr><td><i><div class=\"dni-plaintext\"><pre>0</pre></div></i></td><td><div class=\"dni-plaintext\"><pre>281</pre></div></td><td><div class=\"dni-plaintext\"><pre>1</pre></div></td></tr><tr><td><i><div class=\"dni-plaintext\"><pre>1</pre></div></i></td><td><div class=\"dni-plaintext\"><pre>293</pre></div></td><td><div class=\"dni-plaintext\"><pre>1</pre></div></td></tr><tr><td><i><div class=\"dni-plaintext\"><pre>2</pre></div></i></td><td><div class=\"dni-plaintext\"><pre>298</pre></div></td><td><div class=\"dni-plaintext\"><pre>1</pre></div></td></tr><tr><td><i><div class=\"dni-plaintext\"><pre>3</pre></div></i></td><td><div class=\"dni-plaintext\"><pre>299</pre></div></td><td><div class=\"dni-plaintext\"><pre>1</pre></div></td></tr><tr><td><i><div class=\"dni-plaintext\"><pre>4</pre></div></i></td><td><div class=\"dni-plaintext\"><pre>300</pre></div></td><td><div class=\"dni-plaintext\"><pre>2</pre></div></td></tr><tr><td><i><div class=\"dni-plaintext\"><pre>5</pre></div></i></td><td><div class=\"dni-plaintext\"><pre>301</pre></div></td><td><div class=\"dni-plaintext\"><pre>2</pre></div></td></tr><tr><td><i><div class=\"dni-plaintext\"><pre>6</pre></div></i></td><td><div class=\"dni-plaintext\"><pre>302</pre></div></td><td><div class=\"dni-plaintext\"><pre>2</pre></div></td></tr><tr><td><i><div class=\"dni-plaintext\"><pre>7</pre></div></i></td><td><div class=\"dni-plaintext\"><pre>303</pre></div></td><td><div class=\"dni-plaintext\"><pre>2</pre></div></td></tr><tr><td><i><div class=\"dni-plaintext\"><pre>8</pre></div></i></td><td><div class=\"dni-plaintext\"><pre>304</pre></div></td><td><div class=\"dni-plaintext\"><pre>1</pre></div></td></tr><tr><td><i><div class=\"dni-plaintext\"><pre>9</pre></div></i></td><td><div class=\"dni-plaintext\"><pre>305</pre></div></td><td><div class=\"dni-plaintext\"><pre>5</pre></div></td></tr></tbody></table><style>\r\n",
       ".dni-code-hint {\r\n",
       "    font-style: italic;\r\n",
       "    overflow: hidden;\r\n",
       "    white-space: nowrap;\r\n",
       "}\r\n",
       ".dni-treeview {\r\n",
       "    white-space: nowrap;\r\n",
       "}\r\n",
       ".dni-treeview td {\r\n",
       "    vertical-align: top;\r\n",
       "    text-align: start;\r\n",
       "}\r\n",
       "details.dni-treeview {\r\n",
       "    padding-left: 1em;\r\n",
       "}\r\n",
       "table td {\r\n",
       "    text-align: start;\r\n",
       "}\r\n",
       "table tr { \r\n",
       "    vertical-align: top; \r\n",
       "    margin: 0em 0px;\r\n",
       "}\r\n",
       "table tr td pre \r\n",
       "{ \r\n",
       "    vertical-align: top !important; \r\n",
       "    margin: 0em 0px !important;\r\n",
       "} \r\n",
       "table th {\r\n",
       "    text-align: start;\r\n",
       "}\r\n",
       "</style>"
      ]
     },
     "metadata": {},
     "output_type": "display_data"
    }
   ],
   "source": [
    "var targetDate = new DateTime(2016, 10, 8);\n",
    "var filteredRecords = records\n",
    "    .Where(r => r.PLAY_TS.Date == targetDate)\n",
    "    .ToList();\n",
    "\n",
    "// Group by CLIENT_ID and count distinct SONG_ID for each client\n",
    "var clientDistinctSongCounts = filteredRecords\n",
    "    .GroupBy(r => r.CLIENT_ID)\n",
    "    .Select(g => new\n",
    "    {\n",
    "        CLIENT_ID = g.Key,\n",
    "        DISTINCT_SONG_COUNT = g.Select(r => r.SONG_ID).Distinct().Count()\n",
    "    })\n",
    "    .ToList();\n",
    "\n",
    "// Group by DISTINCT_SONG_COUNT and count the number of clients\n",
    "var result = clientDistinctSongCounts\n",
    "    .GroupBy(c => c.DISTINCT_SONG_COUNT)\n",
    "    .Select(g => new\n",
    "    {\n",
    "        DISTINCT_PLAY_COUNT = g.Key,\n",
    "        CLIENT_COUNT = g.Count()\n",
    "    })\n",
    "    .OrderBy(r => r.DISTINCT_PLAY_COUNT)\n",
    "    .ToList();\n",
    "\n",
    "// Create a DataFrame\n",
    "var distinctPlayCountColumn = new PrimitiveDataFrameColumn<int>(\"DISTINCT_PLAY_COUNT\");\n",
    "var clientCountColumn = new PrimitiveDataFrameColumn<int>(\"CLIENT_COUNT\");\n",
    "\n",
    "foreach (var item in result)\n",
    "{\n",
    "    distinctPlayCountColumn.Append(item.DISTINCT_PLAY_COUNT);\n",
    "    clientCountColumn.Append(item.CLIENT_COUNT);\n",
    "}\n",
    "\n",
    "var dataFrame = new DataFrame(distinctPlayCountColumn, clientCountColumn);\n",
    "\n",
    "dataFrame.Head(10).Display();"
   ]
  },
  {
   "cell_type": "markdown",
   "metadata": {},
   "source": [
    "## Save as csv"
   ]
  },
  {
   "cell_type": "code",
   "execution_count": 12,
   "id": "9eb0e8fc",
   "metadata": {
    "dotnet_interactive": {
     "language": "csharp"
    },
    "polyglot_notebook": {
     "kernelName": "csharp"
    },
    "vscode": {
     "languageId": "polyglot-notebook"
    }
   },
   "outputs": [],
   "source": [
    "public static void SaveDataFrameToCsv(DataFrame dataFrame, string filePath, char delimiter)\n",
    "{\n",
    "    using var writer = new StreamWriter(filePath);\n",
    "\n",
    "    // Write the header\n",
    "    var header = string.Join(delimiter, dataFrame.Columns.Select(c => c.Name));\n",
    "    writer.WriteLine(header);\n",
    "\n",
    "    // Write the rows\n",
    "    for (long i = 0; i < dataFrame.Rows.Count; i++)\n",
    "    {\n",
    "        var row = dataFrame.Rows[i];\n",
    "        var rowValues = new List<string>();\n",
    "\n",
    "        for (int j = 0; j < dataFrame.Columns.Count; j++)\n",
    "        {\n",
    "            rowValues.Add(row[j]?.ToString() ?? string.Empty);\n",
    "        }\n",
    "\n",
    "        var line = string.Join(delimiter, rowValues);\n",
    "        writer.WriteLine(line);\n",
    "    }\n",
    "}"
   ]
  },
  {
   "cell_type": "code",
   "execution_count": 13,
   "id": "f0a5305d",
   "metadata": {
    "dotnet_interactive": {
     "language": "csharp"
    },
    "polyglot_notebook": {
     "kernelName": "csharp"
    },
    "vscode": {
     "languageId": "polyglot-notebook"
    }
   },
   "outputs": [
    {
     "name": "stdout",
     "output_type": "stream",
     "text": [
      "\n",
      "DataFrame saved to ./output.csv\n"
     ]
    }
   ],
   "source": [
    "// Save the DataFrame to a tab-delimited CSV file\n",
    "var outputFilePath = \"./output.csv\";\n",
    "SaveDataFrameToCsv(dataFrame, outputFilePath, '\\t'); // Use tab as the delimiter\n",
    "\n",
    "Console.WriteLine($\"\\nDataFrame saved to {outputFilePath}\");"
   ]
  }
 ],
 "metadata": {
  "kernelInfo": {
   "defaultKernelName": null,
   "items": [
    {
     "aliases": [
      "c#",
      "cs"
     ],
     "languageName": "C#",
     "name": "csharp"
    },
    {
     "aliases": [
      "f#",
      "fs"
     ],
     "languageName": "F#",
     "name": "fsharp"
    },
    {
     "languageName": "HTML",
     "name": "html"
    },
    {
     "languageName": "HTTP",
     "name": "http"
    },
    {
     "aliases": [
      "js"
     ],
     "languageName": "JavaScript",
     "name": "javascript"
    },
    {
     "languageName": "KQL",
     "name": "kql"
    },
    {
     "languageName": "Mermaid",
     "name": "mermaid"
    },
    {
     "aliases": [
      "powershell"
     ],
     "languageName": "PowerShell",
     "name": "pwsh"
    },
    {
     "languageName": "SQL",
     "name": "sql"
    },
    {
     "name": "value"
    }
   ]
  },
  "kernelspec": {
   "display_name": ".NET (C#)",
   "language": "C#",
   "name": ".net-csharp"
  },
  "language_info": {
   "name": "python"
  },
  "metadata": {
   "kernelspec": {
    "display_name": ".NET (C#)",
    "language": "C#",
    "name": ".net-csharp"
   },
   "polyglot_notebook": {
    "kernelInfo": {
     "defaultKernelName": "csharp",
     "items": [
      {
       "aliases": [],
       "name": "csharp"
      }
     ]
    }
   }
  },
  "polyglot_notebook": {
   "kernelInfo": {
    "defaultKernelName": "csharp",
    "items": [
     {
      "aliases": [],
      "name": "csharp"
     }
    ]
   }
  }
 },
 "nbformat": 4,
 "nbformat_minor": 5
}
